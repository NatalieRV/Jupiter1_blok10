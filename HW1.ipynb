{
 "cells": [
  {
   "attachments": {},
   "cell_type": "markdown",
   "id": "516b9aab",
   "metadata": {},
   "source": [
    "## Задача 2\n",
    "### На складе лежат разные фрукты в разном количестве.\n",
    "### Нужно написать функцию, которая на вход принимает любое количество названий фруктов и их количество, а возвращает общее количество фруктов на складе\n"
   ]
  },
  {
   "cell_type": "code",
   "execution_count": 1,
   "id": "b6676718",
   "metadata": {},
   "outputs": [
    {
     "data": {
      "text/plain": [
       "27"
      ]
     },
     "execution_count": 1,
     "metadata": {},
     "output_type": "execute_result"
    }
   ],
   "source": [
    "def fruits(**kwargs):\n",
    "    result = 0\n",
    "    for i in kwargs:\n",
    "        result = sum(kwargs.values())\n",
    "    return result\n",
    "\n",
    "total = fruits(orange = 14, apples = 6, pears = 7)\n",
    "total"
   ]
  },
  {
   "cell_type": "markdown",
   "id": "17ee13d9",
   "metadata": {},
   "source": [
    "## Задача 3\n",
    "### Дан список с затратами на рекламу. Но в данных есть ошибки, некоторые затраты имеют отрицательную величину. Удалите такие значения из списка и посчитайте суммарные затраты\n",
    "[100, 125, -90, 345, 655, -1, 0, 200]\n",
    "\n",
    "Используйте list comprehensions"
   ]
  },
  {
   "cell_type": "code",
   "execution_count": 2,
   "id": "8e3a86f7",
   "metadata": {},
   "outputs": [
    {
     "data": {
      "text/plain": [
       "[100, 125, 345, 655, 0, 200]"
      ]
     },
     "execution_count": 2,
     "metadata": {},
     "output_type": "execute_result"
    }
   ],
   "source": [
    "cost = [100, 125, -90, 345, 655, -1, 0, 200]\n",
    "cost_new = [i for i in cost if i>=0]\n",
    "cost_new"
   ]
  },
  {
   "cell_type": "code",
   "execution_count": 3,
   "id": "a4fba83c",
   "metadata": {},
   "outputs": [
    {
     "data": {
      "text/plain": [
       "1425"
      ]
     },
     "execution_count": 3,
     "metadata": {},
     "output_type": "execute_result"
    }
   ],
   "source": [
    "total_cost = sum([i for i in cost_new])\n",
    "total_cost"
   ]
  },
  {
   "cell_type": "markdown",
   "id": "43aa129e",
   "metadata": {},
   "source": [
    "## Задача 4\n",
    "\n",
    "### Даны два списка.\n",
    "### Дата покупки\n",
    "['2021-09-14', '2021-12-15', '2021-09-08', '2021-12-05', '2021-10-09', '2021-09-30', '2021-12-22', '2021-11-29', '2021-12-24', '2021-11-26', '2021-10-27', '2021-12-18', '2021-11-09', '2021-11-23', '2021-09-27', '2021-10-02', '2021-12-27', '2021-09-20', '2021-12-13', '2021-11-01', '2021-11-09', '2021-12-06', '2021-12-08', '2021-10-09', '2021-10-31', '2021-09-30', '2021-11-09', '2021-12-13', '2021-10-26', '2021-12-09']\n",
    "### Суммы покупок по датам\n",
    "[1270, 8413, 9028, 3703, 5739, 4095, 295, 4944, 5723, 3701, 4471, 651, 7037, 4274, 6275, 4988, 6930, 2971, 6592, 2004, 2822, 519, 3406, 2732, 5015, 2008, 316, 6333, 5700, 2887]\n",
    "\n",
    "### 4.1 Найдите, какая выручка у компании в ноябре\n",
    "Используйте list comprehensions"
   ]
  },
  {
   "cell_type": "code",
   "execution_count": 4,
   "id": "060d0ba4",
   "metadata": {},
   "outputs": [
    {
     "data": {
      "text/plain": [
       "{'2021-09-14': 1270,\n",
       " '2021-12-15': 8413,\n",
       " '2021-09-08': 9028,\n",
       " '2021-12-05': 3703,\n",
       " '2021-10-09': 2732,\n",
       " '2021-09-30': 2008,\n",
       " '2021-12-22': 295,\n",
       " '2021-11-29': 4944,\n",
       " '2021-12-24': 5723,\n",
       " '2021-11-26': 3701,\n",
       " '2021-10-27': 4471,\n",
       " '2021-12-18': 651,\n",
       " '2021-11-09': 316,\n",
       " '2021-11-23': 4274,\n",
       " '2021-09-27': 6275,\n",
       " '2021-10-02': 4988,\n",
       " '2021-12-27': 6930,\n",
       " '2021-09-20': 2971,\n",
       " '2021-12-13': 6333,\n",
       " '2021-11-01': 2004,\n",
       " '2021-12-06': 519,\n",
       " '2021-12-08': 3406,\n",
       " '2021-10-31': 5015,\n",
       " '2021-10-26': 5700,\n",
       " '2021-12-09': 2887}"
      ]
     },
     "execution_count": 4,
     "metadata": {},
     "output_type": "execute_result"
    }
   ],
   "source": [
    "purchase_date = ['2021-09-14', '2021-12-15', '2021-09-08', '2021-12-05', '2021-10-09', '2021-09-30',\n",
    "                 '2021-12-22', '2021-11-29', '2021-12-24', '2021-11-26', '2021-10-27', '2021-12-18', \n",
    "                 '2021-11-09', '2021-11-23', '2021-09-27', '2021-10-02', '2021-12-27', '2021-09-20', \n",
    "                 '2021-12-13', '2021-11-01', '2021-11-09', '2021-12-06', '2021-12-08', '2021-10-09', \n",
    "                 '2021-10-31', '2021-09-30', '2021-11-09', '2021-12-13', '2021-10-26', '2021-12-09']\n",
    "purchase_amount = [1270, 8413, 9028, 3703, 5739, 4095, 295, 4944, 5723, 3701, 4471, 651, 7037, 4274, \n",
    "                   6275, 4988, 6930, 2971, 6592, 2004, 2822, 519, 3406, 2732, 5015, 2008, 316, 6333, 5700, 2887]\n",
    "all_purchase = dict(zip(purchase_date, purchase_amount))\n",
    "all_purchase"
   ]
  },
  {
   "cell_type": "code",
   "execution_count": 5,
   "id": "49e69a6b",
   "metadata": {},
   "outputs": [
    {
     "data": {
      "text/plain": [
       "[4944, 3701, 7037, 4274, 2004, 2822, 316]"
      ]
     },
     "execution_count": 5,
     "metadata": {},
     "output_type": "execute_result"
    }
   ],
   "source": [
    "november = [purchase_amount[i] for i in range(0,len(purchase_amount)) if \"11\" in purchase_date[i]]\n",
    "november"
   ]
  },
  {
   "cell_type": "code",
   "execution_count": 6,
   "id": "f8e1fa3b",
   "metadata": {},
   "outputs": [
    {
     "data": {
      "text/plain": [
       "25098"
      ]
     },
     "execution_count": 6,
     "metadata": {},
     "output_type": "execute_result"
    }
   ],
   "source": [
    "sum_november = sum([i for i in november])\n",
    "sum_november"
   ]
  },
  {
   "cell_type": "markdown",
   "id": "67fc9294",
   "metadata": {},
   "source": [
    "### 4.2 Найдите выручку компании в зависимости от месяца\n",
    "\n",
    "Для этого напишите функцию, которая на вход принимает список с датами и список с выручкой, а на выходе словарь, где ключи - это месяцы, а значения - это выручка.\n",
    "Используйте аннотирование типов."
   ]
  },
  {
   "cell_type": "code",
   "execution_count": 7,
   "id": "c61a2029",
   "metadata": {},
   "outputs": [
    {
     "name": "stdout",
     "output_type": "stream",
     "text": [
      "{'09': 25647, '12': 45452, '10': 28645, '11': 25098}\n"
     ]
    }
   ],
   "source": [
    "def month_costs(date: list, costs: list)-> dict:\n",
    "    result = {}\n",
    "    for i in range(len(date)):\n",
    "        if date[i].split('-')[1] in result.keys():\n",
    "            result[date[i].split('-')[1]] += costs[i]\n",
    "        else:\n",
    "            result[date[i].split('-')[1]] = costs[i]\n",
    "            \n",
    "    return result\n",
    "print(month_costs(purchase_date, purchase_amount))"
   ]
  },
  {
   "cell_type": "code",
   "execution_count": null,
   "id": "32bb0cbe",
   "metadata": {},
   "outputs": [],
   "source": []
  }
 ],
 "metadata": {
  "kernelspec": {
   "display_name": "Python 3 (ipykernel)",
   "language": "python",
   "name": "python3"
  },
  "language_info": {
   "codemirror_mode": {
    "name": "ipython",
    "version": 3
   },
   "file_extension": ".py",
   "mimetype": "text/x-python",
   "name": "python",
   "nbconvert_exporter": "python",
   "pygments_lexer": "ipython3",
   "version": "3.10.9"
  }
 },
 "nbformat": 4,
 "nbformat_minor": 5
}
